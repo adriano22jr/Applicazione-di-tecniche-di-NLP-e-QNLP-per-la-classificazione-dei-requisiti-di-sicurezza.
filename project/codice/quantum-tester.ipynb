{
 "cells": [
  {
   "cell_type": "code",
   "execution_count": 1,
   "metadata": {},
   "outputs": [
    {
     "name": "stderr",
     "output_type": "stream",
     "text": [
      "/home/adriano22_/.local/lib/python3.11/site-packages/tqdm/auto.py:21: TqdmWarning: IProgress not found. Please update jupyter and ipywidgets. See https://ipywidgets.readthedocs.io/en/stable/user_install.html\n",
      "  from .autonotebook import tqdm as notebook_tqdm\n"
     ]
    }
   ],
   "source": [
    "from lambeq import BobcatParser, stairs_reader, cups_reader\n",
    "from lambeq import AtomicType, IQPAnsatz\n",
    "from quantum_pipeline import *\n",
    "from utilities import *"
   ]
  },
  {
   "cell_type": "code",
   "execution_count": 2,
   "metadata": {},
   "outputs": [],
   "source": [
    "#define atomic-types\n",
    "\n",
    "N = AtomicType.NOUN\n",
    "S = AtomicType.SENTENCE\n",
    "C = AtomicType.CONJUNCTION\n",
    "P = AtomicType.PUNCTUATION\n",
    "NP = AtomicType.NOUN_PHRASE\n",
    "PP = AtomicType.PREPOSITIONAL_PHRASE"
   ]
  },
  {
   "cell_type": "code",
   "execution_count": 3,
   "metadata": {},
   "outputs": [],
   "source": [
    "#parser = BobcatParser(root_cats = (\"NP\", \"N\"), verbose = \"progress\")\n",
    "ansatz = IQPAnsatz({N: 1, S: 1, C: 1, P: 1, NP: 1, PP: 1}, n_layers = 1, n_single_qubit_params = 3)"
   ]
  },
  {
   "cell_type": "code",
   "execution_count": 4,
   "metadata": {},
   "outputs": [],
   "source": [
    "pipeline = QuantumPipeline(stairs_reader, ansatz)\n",
    "#train_labels, train_circuits = pipeline.create_circuits_and_labels(\"/home/adriano22_/Documents/GitHub/Tesi-Quantum-NLP/project/datasets/edited_datasets/quantum/GPS_quantum.csv\")\n",
    "#test_labels, test_circuits = pipeline.create_circuits_and_labels(\"/home/adriano22_/Documents/GitHub/Tesi-Quantum-NLP/project/datasets/edited_datasets/quantum/CPN_quantum.csv\")\n",
    "#eval_labels, eval_circuits = pipeline.create_circuits_and_labels(\"/home/adriano22_/Documents/GitHub/Tesi-Quantum-NLP/project/datasets/edited_datasets/quantum/ePurse_quantum.csv\")\n",
    "\n",
    "#train_labels, train_circuits = pipeline.create_circuits_and_labels(\"C:\\\\Users\\\\calif\\\\Documents\\\\GitHub\\\\Tesi-Quantum-NLP\\\\project\\\\datasets\\\\edited_datasets\\\\quantum\\\\GPS_quantum.csv\")\n",
    "#test_labels, test_circuits = pipeline.create_circuits_and_labels(\"C:\\\\Users\\\\calif\\\\Documents\\\\GitHub\\\\Tesi-Quantum-NLP\\\\project\\\\datasets\\\\edited_datasets\\\\quantum\\\\CPN_quantum.csv\")\n",
    "#eval_labels, eval_circuits = pipeline.create_circuits_and_labels(\"C:\\\\Users\\\\calif\\\\Documents\\\\GitHub\\\\Tesi-Quantum-NLP\\\\project\\\\datasets\\\\edited_datasets\\\\quantum\\\\ePurse_quantum.csv\")"
   ]
  },
  {
   "cell_type": "code",
   "execution_count": 5,
   "metadata": {},
   "outputs": [],
   "source": [
    "#dataset anthony\n",
    "\n",
    "pipeline = QuantumPipeline(stairs_reader, ansatz)\n",
    "train_labels, train_circuits = pipeline.create_circuits_and_labels(\"/home/adriano22_/Documents/GitHub/Tesi-Quantum-NLP/project/datasets/dataset_training.csv\")\n",
    "eval_labels, eval_circuits = pipeline.create_circuits_and_labels(\"/home/adriano22_/Documents/GitHub/Tesi-Quantum-NLP/project/datasets/dataset_val.csv\")"
   ]
  },
  {
   "cell_type": "code",
   "execution_count": 5,
   "metadata": {},
   "outputs": [],
   "source": [
    "#save_data(\"quantum_train_data.txt\", train_labels, train_circuits)\n",
    "#save_data(\"quantum_test_data.txt\", test_labels, test_circuits)\n",
    "#save_data(\"quantum_eval_data.txt\", eval_labels, eval_circuits)\n",
    "\n",
    "train_labels, train_circuits = load_data(\"quantum_train_data.txt\")\n",
    "test_labels, test_circuits = load_data(\"quantum_test_data.txt\")\n",
    "eval_labels, eval_circuits = load_data(\"quantum_eval_data.txt\")"
   ]
  },
  {
   "cell_type": "code",
   "execution_count": null,
   "metadata": {},
   "outputs": [],
   "source": [
    "train_set, test_set, eval_set = pipeline.create_dataset(train_labels, train_circuits), pipeline.create_dataset(test_labels, test_circuits), pipeline.create_dataset(eval_labels, eval_circuits)\n",
    "model = pipeline.create_model(train_circuits, test_circuits, eval_circuits)\n",
    "pipeline.create_trainer(model = model, n_epochs = 100, a_hyp = 0.03)\n",
    "pipeline.train_model(train_set, eval_set, 1, 1)"
   ]
  },
  {
   "cell_type": "code",
   "execution_count": null,
   "metadata": {},
   "outputs": [],
   "source": [
    "#gridsearch for quantum case\n",
    "epochs = [100]\n",
    "learning_rates = [3e-1, 3e-2, 3e-3]\n",
    "\n",
    "train_set, test_set, eval_set = pipeline.create_dataset(train_labels, train_circuits), pipeline.create_dataset(test_labels, test_circuits), pipeline.create_dataset(eval_labels, eval_circuits)\n",
    "model = pipeline.create_model(train_circuits, test_circuits, eval_circuits)\n",
    "\n",
    "for lr in learning_rates:\n",
    "    print(f\"Current learning rate: {str(lr)}\\n\")\n",
    "    pipeline.create_trainer(model = model, n_epochs = 100, a_hyp = lr)\n",
    "    pipeline.train_model(train_set, eval_set, 1, 1)"
   ]
  },
  {
   "cell_type": "code",
   "execution_count": null,
   "metadata": {},
   "outputs": [],
   "source": [
    "train_set, test_set, eval_set = pipeline.create_dataset(train_labels, train_circuits), pipeline.create_dataset(test_labels, test_circuits), pipeline.create_dataset(eval_labels, eval_circuits)\n",
    "model = pipeline.create_model(train_circuits, test_circuits, eval_circuits)\n",
    "pipeline.create_trainer(model = model, n_epochs = 100, a_hyp = 3e-1)\n",
    "pipeline.train_model(train_set, eval_set, 1, 1)"
   ]
  },
  {
   "cell_type": "code",
   "execution_count": null,
   "metadata": {},
   "outputs": [],
   "source": [
    "train_set, test_set, eval_set = pipeline.create_dataset(train_labels, train_circuits), pipeline.create_dataset(test_labels, test_circuits), pipeline.create_dataset(eval_labels, eval_circuits)\n",
    "model = pipeline.create_model(train_circuits, test_circuits, eval_circuits)\n",
    "pipeline.create_trainer(model = model, n_epochs = 100, a_hyp = 3e-2)\n",
    "pipeline.train_model(train_set, eval_set, 1, 1)"
   ]
  },
  {
   "cell_type": "code",
   "execution_count": null,
   "metadata": {},
   "outputs": [],
   "source": [
    "train_set, test_set, eval_set = pipeline.create_dataset(train_labels, train_circuits), pipeline.create_dataset(test_labels, test_circuits), pipeline.create_dataset(eval_labels, eval_circuits)\n",
    "model = pipeline.create_model(train_circuits, test_circuits, eval_circuits)\n",
    "pipeline.create_trainer(model = model, n_epochs = 100, a_hyp = 3e-3)\n",
    "pipeline.train_model(train_set, eval_set, 1, 1)"
   ]
  },
  {
   "cell_type": "code",
   "execution_count": null,
   "metadata": {},
   "outputs": [],
   "source": [
    "#1000 epoch training\n",
    "train_set, test_set, eval_set = pipeline.create_dataset(train_labels, train_circuits), pipeline.create_dataset(test_labels, test_circuits), pipeline.create_dataset(eval_labels, eval_circuits)\n",
    "model = pipeline.create_model(train_circuits, test_circuits, eval_circuits)\n",
    "pipeline.create_trainer(model = model, n_epochs = 600, a_hyp = 3e-2)\n",
    "\n",
    "model1 = pipeline.load_from_model(\"/home/adriano22_/Documents/GitHub/Tesi-Quantum-NLP/project/codice/runs/Jun27_13-03-51_archlinux\")\n",
    "pipeline.train_model(train_set, eval_set, 1, 1)"
   ]
  }
 ],
 "metadata": {
  "kernelspec": {
   "display_name": "Python 3 (ipykernel)",
   "language": "python",
   "name": "python3"
  },
  "language_info": {
   "codemirror_mode": {
    "name": "ipython",
    "version": 3
   },
   "file_extension": ".py",
   "mimetype": "text/x-python",
   "name": "python",
   "nbconvert_exporter": "python",
   "pygments_lexer": "ipython3",
   "version": "3.11.3"
  },
  "orig_nbformat": 4
 },
 "nbformat": 4,
 "nbformat_minor": 2
}
