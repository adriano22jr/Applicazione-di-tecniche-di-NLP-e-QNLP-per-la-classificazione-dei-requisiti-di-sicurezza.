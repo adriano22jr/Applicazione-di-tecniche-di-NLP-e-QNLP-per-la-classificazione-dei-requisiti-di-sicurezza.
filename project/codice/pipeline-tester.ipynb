{
 "cells": [
  {
   "cell_type": "code",
   "execution_count": 1,
   "metadata": {},
   "outputs": [],
   "source": [
    "from lambeq import BobcatParser, TreeReader, TreeReaderMode, spiders_reader, cups_reader, stairs_reader\n",
    "from lambeq import TensorAnsatz, SpiderAnsatz, MPSAnsatz, AtomicType, IQPAnsatz\n",
    "from discopy import Dim, tensor\n",
    "from classic_pipeline import *\n",
    "from quantum_pipeline import *\n",
    "from utilities import *"
   ]
  },
  {
   "cell_type": "code",
   "execution_count": 6,
   "metadata": {},
   "outputs": [],
   "source": [
    "#parser declaration\n",
    "\n",
    "bobcat_parser = BobcatParser(verbose = \"progress\")\n",
    "spider_parser = spiders_reader\n",
    "cups_parser = cups_reader\n",
    "stairs_parser = stairs_reader\n",
    "tree_parser = TreeReader(mode=TreeReaderMode.RULE_ONLY)\n",
    "quantum_parser = BobcatParser(root_cats=('NP', 'N'), verbose='progress')"
   ]
  },
  {
   "cell_type": "code",
   "execution_count": 7,
   "metadata": {},
   "outputs": [],
   "source": [
    "#ansatze declaration\n",
    "\n",
    "tensor_ansatz = TensorAnsatz({AtomicType.NOUN: Dim(2), AtomicType.SENTENCE: Dim(2), AtomicType.CONJUNCTION: Dim(2), AtomicType.PUNCTUATION: Dim(2), AtomicType.NOUN_PHRASE: Dim(2), AtomicType.PREPOSITIONAL_PHRASE: Dim(2)})\n",
    "spider_ansatz = SpiderAnsatz({AtomicType.NOUN: Dim(2), AtomicType.SENTENCE: Dim(2)})\n",
    "mps_ansatz = MPSAnsatz({AtomicType.NOUN: Dim(2), AtomicType.SENTENCE: Dim(2)}, bond_dim = 3)\n",
    "iqp_ansatz = IQPAnsatz({AtomicType.NOUN: 1, AtomicType.SENTENCE: 0}, n_layers=1, n_single_qubit_params=3)"
   ]
  },
  {
   "cell_type": "code",
   "execution_count": null,
   "metadata": {},
   "outputs": [],
   "source": [
    "#data-extracion for classic pipeline\n",
    "\n",
    "pip = ClassicPipeline(bobcat_parser, tensor_ansatz)\n",
    "pip.add_rewriter_rules(ClassicPipeline.SUPPORTED_RULES[0], ClassicPipeline.SUPPORTED_RULES[1], ClassicPipeline.SUPPORTED_RULES[4])\n",
    "train_labels, train_circuits = pip.create_circuits_and_labels(\"/home/adriano22_/Documents/GitHub/Tesi-Quantum-NLP/project/datasets/edited_datasets/GPS_edited.csv\", \"n\")\n",
    "test_labels, test_circuits = pip.create_circuits_and_labels(\"/home/adriano22_/Documents/GitHub/Tesi-Quantum-NLP/project/datasets/edited_datasets/ePurse_edited.csv\", \"n\")"
   ]
  },
  {
   "cell_type": "code",
   "execution_count": 8,
   "metadata": {},
   "outputs": [
    {
     "data": {
      "application/vnd.jupyter.widget-view+json": {
       "model_id": "e62ae9a1b43e4b75ac43a24ae8d45d18",
       "version_major": 2,
       "version_minor": 0
      },
      "text/plain": [
       "Tagging sentences:   0%|          | 0/42 [00:00<?, ?it/s]"
      ]
     },
     "metadata": {},
     "output_type": "display_data"
    },
    {
     "data": {
      "application/vnd.jupyter.widget-view+json": {
       "model_id": "ba5fc9fcf33a4a568aa42f3d4e302397",
       "version_major": 2,
       "version_minor": 0
      },
      "text/plain": [
       "Parsing tagged sentences:   0%|          | 0/168 [00:00<?, ?it/s]"
      ]
     },
     "metadata": {},
     "output_type": "display_data"
    },
    {
     "data": {
      "application/vnd.jupyter.widget-view+json": {
       "model_id": "8add29e8cd114695bd340730d7f0e4a3",
       "version_major": 2,
       "version_minor": 0
      },
      "text/plain": [
       "Parse trees to diagrams:   0%|          | 0/168 [00:00<?, ?it/s]"
      ]
     },
     "metadata": {},
     "output_type": "display_data"
    },
    {
     "ename": "KeyError",
     "evalue": "Ty('p')",
     "output_type": "error",
     "traceback": [
      "\u001b[1;31m---------------------------------------------------------------------------\u001b[0m",
      "\u001b[1;31mKeyError\u001b[0m                                  Traceback (most recent call last)",
      "Cell \u001b[1;32mIn[8], line 2\u001b[0m\n\u001b[0;32m      1\u001b[0m qpip \u001b[39m=\u001b[39m QuantumPipeline(quantum_parser, iqp_ansatz)\n\u001b[1;32m----> 2\u001b[0m train_labels, train_circuits \u001b[39m=\u001b[39m qpip\u001b[39m.\u001b[39;49mcreate_circuits_and_labels(\u001b[39m\"\u001b[39;49m\u001b[39mC:\u001b[39;49m\u001b[39m\\\\\u001b[39;49;00m\u001b[39mUsers\u001b[39;49m\u001b[39m\\\\\u001b[39;49;00m\u001b[39mcalif\u001b[39;49m\u001b[39m\\\\\u001b[39;49;00m\u001b[39mDocuments\u001b[39;49m\u001b[39m\\\\\u001b[39;49;00m\u001b[39mGitHub\u001b[39;49m\u001b[39m\\\\\u001b[39;49;00m\u001b[39mTesi-Quantum-NLP\u001b[39;49m\u001b[39m\\\\\u001b[39;49;00m\u001b[39mproject\u001b[39;49m\u001b[39m\\\\\u001b[39;49;00m\u001b[39mdatasets\u001b[39;49m\u001b[39m\\\\\u001b[39;49;00m\u001b[39medited_datasets\u001b[39;49m\u001b[39m\\\\\u001b[39;49;00m\u001b[39mGPS_edited.csv\u001b[39;49m\u001b[39m\"\u001b[39;49m, \u001b[39m\"\u001b[39;49m\u001b[39mn\u001b[39;49m\u001b[39m\"\u001b[39;49m)\n\u001b[0;32m      3\u001b[0m test_labels, test_circuits \u001b[39m=\u001b[39m qpip\u001b[39m.\u001b[39mcreate_circuits_and_labels(\u001b[39m\"\u001b[39m\u001b[39mC:\u001b[39m\u001b[39m\\\\\u001b[39;00m\u001b[39mUsers\u001b[39m\u001b[39m\\\\\u001b[39;00m\u001b[39mcalif\u001b[39m\u001b[39m\\\\\u001b[39;00m\u001b[39mDocuments\u001b[39m\u001b[39m\\\\\u001b[39;00m\u001b[39mGitHub\u001b[39m\u001b[39m\\\\\u001b[39;00m\u001b[39mTesi-Quantum-NLP\u001b[39m\u001b[39m\\\\\u001b[39;00m\u001b[39mproject\u001b[39m\u001b[39m\\\\\u001b[39;00m\u001b[39mdatasets\u001b[39m\u001b[39m\\\\\u001b[39;00m\u001b[39medited_datasets\u001b[39m\u001b[39m\\\\\u001b[39;00m\u001b[39mePurse_edited.csv\u001b[39m\u001b[39m\"\u001b[39m, \u001b[39m\"\u001b[39m\u001b[39mn\u001b[39m\u001b[39m\"\u001b[39m)\n",
      "File \u001b[1;32mc:\\Users\\calif\\Documents\\GitHub\\Tesi-Quantum-NLP\\project\\codice\\quantum_pipeline.py:41\u001b[0m, in \u001b[0;36mQuantumPipeline.create_circuits_and_labels\u001b[1;34m(self, dataset, control)\u001b[0m\n\u001b[0;32m     39\u001b[0m normalized_diagrams \u001b[39m=\u001b[39m [\u001b[39mself\u001b[39m\u001b[39m.\u001b[39m__rewriter(diagram)\u001b[39m.\u001b[39mnormal_form() \u001b[39mfor\u001b[39;00m diagram \u001b[39min\u001b[39;00m diagrams \u001b[39mif\u001b[39;00m diagram \u001b[39mis\u001b[39;00m \u001b[39mnot\u001b[39;00m \u001b[39mNone\u001b[39;00m]      \n\u001b[0;32m     40\u001b[0m edited_labels \u001b[39m=\u001b[39m [label \u001b[39mfor\u001b[39;00m (diagram, label) \u001b[39min\u001b[39;00m \u001b[39mzip\u001b[39m(diagrams, labels) \u001b[39mif\u001b[39;00m diagram \u001b[39mis\u001b[39;00m \u001b[39mnot\u001b[39;00m \u001b[39mNone\u001b[39;00m]             \n\u001b[1;32m---> 41\u001b[0m circuits \u001b[39m=\u001b[39m [\u001b[39mself\u001b[39m\u001b[39m.\u001b[39m__ansatz(remove_cups(diagram)) \u001b[39mfor\u001b[39;00m diagram \u001b[39min\u001b[39;00m normalized_diagrams]            \n\u001b[0;32m     43\u001b[0m \u001b[39mreturn\u001b[39;00m edited_labels, circuits\n",
      "File \u001b[1;32mc:\\Users\\calif\\Documents\\GitHub\\Tesi-Quantum-NLP\\project\\codice\\quantum_pipeline.py:41\u001b[0m, in \u001b[0;36m<listcomp>\u001b[1;34m(.0)\u001b[0m\n\u001b[0;32m     39\u001b[0m normalized_diagrams \u001b[39m=\u001b[39m [\u001b[39mself\u001b[39m\u001b[39m.\u001b[39m__rewriter(diagram)\u001b[39m.\u001b[39mnormal_form() \u001b[39mfor\u001b[39;00m diagram \u001b[39min\u001b[39;00m diagrams \u001b[39mif\u001b[39;00m diagram \u001b[39mis\u001b[39;00m \u001b[39mnot\u001b[39;00m \u001b[39mNone\u001b[39;00m]      \n\u001b[0;32m     40\u001b[0m edited_labels \u001b[39m=\u001b[39m [label \u001b[39mfor\u001b[39;00m (diagram, label) \u001b[39min\u001b[39;00m \u001b[39mzip\u001b[39m(diagrams, labels) \u001b[39mif\u001b[39;00m diagram \u001b[39mis\u001b[39;00m \u001b[39mnot\u001b[39;00m \u001b[39mNone\u001b[39;00m]             \n\u001b[1;32m---> 41\u001b[0m circuits \u001b[39m=\u001b[39m [\u001b[39mself\u001b[39;49m\u001b[39m.\u001b[39;49m__ansatz(remove_cups(diagram)) \u001b[39mfor\u001b[39;00m diagram \u001b[39min\u001b[39;00m normalized_diagrams]            \n\u001b[0;32m     43\u001b[0m \u001b[39mreturn\u001b[39;00m edited_labels, circuits\n",
      "File \u001b[1;32m~\\AppData\\Local\\Programs\\Python\\Python310\\lib\\site-packages\\lambeq\\ansatz\\circuit.py:94\u001b[0m, in \u001b[0;36mCircuitAnsatz.__call__\u001b[1;34m(self, diagram)\u001b[0m\n\u001b[0;32m     92\u001b[0m \u001b[39mdef\u001b[39;00m \u001b[39m__call__\u001b[39m(\u001b[39mself\u001b[39m, diagram: Diagram) \u001b[39m-\u001b[39m\u001b[39m>\u001b[39m Circuit:\n\u001b[0;32m     93\u001b[0m \u001b[39m    \u001b[39m\u001b[39m\"\"\"Convert a DisCoPy diagram into a DisCoPy circuit.\"\"\"\u001b[39;00m\n\u001b[1;32m---> 94\u001b[0m     \u001b[39mreturn\u001b[39;00m \u001b[39mself\u001b[39;49m\u001b[39m.\u001b[39;49mfunctor(diagram)\n",
      "File \u001b[1;32m~\\AppData\\Local\\Programs\\Python\\Python310\\lib\\site-packages\\discopy\\rigid.py:688\u001b[0m, in \u001b[0;36mFunctor.__call__\u001b[1;34m(self, diagram)\u001b[0m\n\u001b[0;32m    686\u001b[0m     \u001b[39mreturn\u001b[39;00m result\n\u001b[0;32m    687\u001b[0m \u001b[39mif\u001b[39;00m \u001b[39misinstance\u001b[39m(diagram, monoidal\u001b[39m.\u001b[39mDiagram):\n\u001b[1;32m--> 688\u001b[0m     \u001b[39mreturn\u001b[39;00m \u001b[39msuper\u001b[39;49m()\u001b[39m.\u001b[39;49m\u001b[39m__call__\u001b[39;49m(diagram)\n\u001b[0;32m    689\u001b[0m \u001b[39mraise\u001b[39;00m \u001b[39mTypeError\u001b[39;00m(messages\u001b[39m.\u001b[39mtype_err(Diagram, diagram))\n",
      "File \u001b[1;32m~\\AppData\\Local\\Programs\\Python\\Python310\\lib\\site-packages\\discopy\\monoidal.py:916\u001b[0m, in \u001b[0;36mFunctor.__call__\u001b[1;34m(self, diagram)\u001b[0m\n\u001b[0;32m    914\u001b[0m     id_l \u001b[39m=\u001b[39m \u001b[39mself\u001b[39m\u001b[39m.\u001b[39mar_factory\u001b[39m.\u001b[39mid(\u001b[39mself\u001b[39m(scan[:off]))\n\u001b[0;32m    915\u001b[0m     id_r \u001b[39m=\u001b[39m \u001b[39mself\u001b[39m\u001b[39m.\u001b[39mar_factory\u001b[39m.\u001b[39mid(\u001b[39mself\u001b[39m(scan[off \u001b[39m+\u001b[39m \u001b[39mlen\u001b[39m(box\u001b[39m.\u001b[39mdom):]))\n\u001b[1;32m--> 916\u001b[0m     result \u001b[39m=\u001b[39m result \u001b[39m>>\u001b[39m id_l \u001b[39m@\u001b[39m \u001b[39mself\u001b[39;49m(box) \u001b[39m@\u001b[39m id_r\n\u001b[0;32m    917\u001b[0m     scan \u001b[39m=\u001b[39m scan[:off] \u001b[39m@\u001b[39m box\u001b[39m.\u001b[39mcod \u001b[39m@\u001b[39m scan[off \u001b[39m+\u001b[39m \u001b[39mlen\u001b[39m(box\u001b[39m.\u001b[39mdom):]\n\u001b[0;32m    918\u001b[0m \u001b[39mreturn\u001b[39;00m result\n",
      "File \u001b[1;32m~\\AppData\\Local\\Programs\\Python\\Python310\\lib\\site-packages\\discopy\\rigid.py:679\u001b[0m, in \u001b[0;36mFunctor.__call__\u001b[1;34m(self, diagram)\u001b[0m\n\u001b[0;32m    677\u001b[0m \u001b[39mif\u001b[39;00m \u001b[39misinstance\u001b[39m(diagram, Box):\n\u001b[0;32m    678\u001b[0m     \u001b[39mif\u001b[39;00m \u001b[39mnot\u001b[39;00m \u001b[39mhasattr\u001b[39m(diagram, \u001b[39m\"\u001b[39m\u001b[39mz\u001b[39m\u001b[39m\"\u001b[39m) \u001b[39mor\u001b[39;00m \u001b[39mnot\u001b[39;00m diagram\u001b[39m.\u001b[39mz:\n\u001b[1;32m--> 679\u001b[0m         \u001b[39mreturn\u001b[39;00m \u001b[39msuper\u001b[39;49m()\u001b[39m.\u001b[39;49m\u001b[39m__call__\u001b[39;49m(diagram)\n\u001b[0;32m    680\u001b[0m     z \u001b[39m=\u001b[39m diagram\u001b[39m.\u001b[39mz\n\u001b[0;32m    681\u001b[0m     \u001b[39mfor\u001b[39;00m _ \u001b[39min\u001b[39;00m \u001b[39mrange\u001b[39m(\u001b[39mabs\u001b[39m(z)):\n",
      "File \u001b[1;32m~\\AppData\\Local\\Programs\\Python\\Python310\\lib\\site-packages\\discopy\\monoidal.py:910\u001b[0m, in \u001b[0;36mFunctor.__call__\u001b[1;34m(self, diagram)\u001b[0m\n\u001b[0;32m    907\u001b[0m     \u001b[39mreturn\u001b[39;00m \u001b[39mself\u001b[39m\u001b[39m.\u001b[39mar_factory\u001b[39m.\u001b[39mswap(\n\u001b[0;32m    908\u001b[0m         \u001b[39mself\u001b[39m(diagram\u001b[39m.\u001b[39mleft), \u001b[39mself\u001b[39m(diagram\u001b[39m.\u001b[39mright))\n\u001b[0;32m    909\u001b[0m \u001b[39mif\u001b[39;00m \u001b[39misinstance\u001b[39m(diagram, Box):\n\u001b[1;32m--> 910\u001b[0m     \u001b[39mreturn\u001b[39;00m \u001b[39msuper\u001b[39;49m()\u001b[39m.\u001b[39;49m\u001b[39m__call__\u001b[39;49m(diagram)\n\u001b[0;32m    911\u001b[0m \u001b[39mif\u001b[39;00m \u001b[39misinstance\u001b[39m(diagram, Diagram):\n\u001b[0;32m    912\u001b[0m     scan, result \u001b[39m=\u001b[39m diagram\u001b[39m.\u001b[39mdom, \u001b[39mself\u001b[39m\u001b[39m.\u001b[39mar_factory\u001b[39m.\u001b[39mid(\u001b[39mself\u001b[39m(diagram\u001b[39m.\u001b[39mdom))\n",
      "File \u001b[1;32m~\\AppData\\Local\\Programs\\Python\\Python310\\lib\\site-packages\\discopy\\cat.py:911\u001b[0m, in \u001b[0;36mFunctor.__call__\u001b[1;34m(self, arrow)\u001b[0m\n\u001b[0;32m    909\u001b[0m     \u001b[39mif\u001b[39;00m arrow\u001b[39m.\u001b[39mis_dagger:\n\u001b[0;32m    910\u001b[0m         \u001b[39mreturn\u001b[39;00m \u001b[39mself\u001b[39m\u001b[39m.\u001b[39mar[arrow\u001b[39m.\u001b[39mdagger()]\u001b[39m.\u001b[39mdagger()\n\u001b[1;32m--> 911\u001b[0m     \u001b[39mreturn\u001b[39;00m \u001b[39mself\u001b[39;49m\u001b[39m.\u001b[39;49mar[arrow]\n\u001b[0;32m    912\u001b[0m \u001b[39mif\u001b[39;00m \u001b[39misinstance\u001b[39m(arrow, Arrow):\n\u001b[0;32m    913\u001b[0m     \u001b[39mreturn\u001b[39;00m \u001b[39mself\u001b[39m\u001b[39m.\u001b[39mar_factory\u001b[39m.\u001b[39mid(\u001b[39mself\u001b[39m(arrow\u001b[39m.\u001b[39mdom))\u001b[39m.\u001b[39mthen(\u001b[39m*\u001b[39m\u001b[39mmap\u001b[39m(\u001b[39mself\u001b[39m, arrow))\n",
      "File \u001b[1;32m~\\AppData\\Local\\Programs\\Python\\Python310\\lib\\site-packages\\discopy\\cat.py:961\u001b[0m, in \u001b[0;36mQuiver.__getitem__\u001b[1;34m(self, box)\u001b[0m\n\u001b[0;32m    960\u001b[0m \u001b[39mdef\u001b[39;00m \u001b[39m__getitem__\u001b[39m(\u001b[39mself\u001b[39m, box):\n\u001b[1;32m--> 961\u001b[0m     \u001b[39mreturn\u001b[39;00m \u001b[39mself\u001b[39;49m\u001b[39m.\u001b[39;49m_func(box)\n",
      "File \u001b[1;32m~\\AppData\\Local\\Programs\\Python\\Python310\\lib\\site-packages\\lambeq\\ansatz\\circuit.py:106\u001b[0m, in \u001b[0;36mCircuitAnsatz._ar\u001b[1;34m(self, box)\u001b[0m\n\u001b[0;32m    104\u001b[0m \u001b[39mdef\u001b[39;00m \u001b[39m_ar\u001b[39m(\u001b[39mself\u001b[39m, box: Box) \u001b[39m-\u001b[39m\u001b[39m>\u001b[39m Circuit:\n\u001b[0;32m    105\u001b[0m     label \u001b[39m=\u001b[39m \u001b[39mself\u001b[39m\u001b[39m.\u001b[39m_summarise_box(box)\n\u001b[1;32m--> 106\u001b[0m     dom, cod \u001b[39m=\u001b[39m \u001b[39mself\u001b[39m\u001b[39m.\u001b[39mob_size(box\u001b[39m.\u001b[39mdom), \u001b[39mself\u001b[39;49m\u001b[39m.\u001b[39;49mob_size(box\u001b[39m.\u001b[39;49mcod)\n\u001b[0;32m    108\u001b[0m     n_qubits \u001b[39m=\u001b[39m \u001b[39mmax\u001b[39m(dom, cod)\n\u001b[0;32m    109\u001b[0m     \u001b[39mif\u001b[39;00m n_qubits \u001b[39m==\u001b[39m \u001b[39m0\u001b[39m:\n",
      "File \u001b[1;32m~\\AppData\\Local\\Programs\\Python\\Python310\\lib\\site-packages\\lambeq\\ansatz\\circuit.py:98\u001b[0m, in \u001b[0;36mCircuitAnsatz.ob_size\u001b[1;34m(self, pg_type)\u001b[0m\n\u001b[0;32m     96\u001b[0m \u001b[39mdef\u001b[39;00m \u001b[39mob_size\u001b[39m(\u001b[39mself\u001b[39m, pg_type: Ty) \u001b[39m-\u001b[39m\u001b[39m>\u001b[39m \u001b[39mint\u001b[39m:\n\u001b[0;32m     97\u001b[0m \u001b[39m    \u001b[39m\u001b[39m\"\"\"Calculate the number of qubits used for a given type.\"\"\"\u001b[39;00m\n\u001b[1;32m---> 98\u001b[0m     \u001b[39mreturn\u001b[39;00m \u001b[39msum\u001b[39;49m(\u001b[39mself\u001b[39;49m\u001b[39m.\u001b[39;49mob_map[Ty(factor\u001b[39m.\u001b[39;49mname)] \u001b[39mfor\u001b[39;49;00m factor \u001b[39min\u001b[39;49;00m pg_type)\n",
      "File \u001b[1;32m~\\AppData\\Local\\Programs\\Python\\Python310\\lib\\site-packages\\lambeq\\ansatz\\circuit.py:98\u001b[0m, in \u001b[0;36m<genexpr>\u001b[1;34m(.0)\u001b[0m\n\u001b[0;32m     96\u001b[0m \u001b[39mdef\u001b[39;00m \u001b[39mob_size\u001b[39m(\u001b[39mself\u001b[39m, pg_type: Ty) \u001b[39m-\u001b[39m\u001b[39m>\u001b[39m \u001b[39mint\u001b[39m:\n\u001b[0;32m     97\u001b[0m \u001b[39m    \u001b[39m\u001b[39m\"\"\"Calculate the number of qubits used for a given type.\"\"\"\u001b[39;00m\n\u001b[1;32m---> 98\u001b[0m     \u001b[39mreturn\u001b[39;00m \u001b[39msum\u001b[39m(\u001b[39mself\u001b[39;49m\u001b[39m.\u001b[39;49mob_map[Ty(factor\u001b[39m.\u001b[39;49mname)] \u001b[39mfor\u001b[39;00m factor \u001b[39min\u001b[39;00m pg_type)\n",
      "\u001b[1;31mKeyError\u001b[0m: Ty('p')"
     ]
    }
   ],
   "source": [
    "qpip = QuantumPipeline(quantum_parser, iqp_ansatz)\n",
    "train_labels, train_circuits = qpip.create_circuits_and_labels(\"C:\\\\Users\\\\calif\\\\Documents\\\\GitHub\\\\Tesi-Quantum-NLP\\\\project\\\\datasets\\\\edited_datasets\\\\GPS_edited.csv\", \"n\")\n",
    "test_labels, test_circuits = qpip.create_circuits_and_labels(\"C:\\\\Users\\\\calif\\\\Documents\\\\GitHub\\\\Tesi-Quantum-NLP\\\\project\\\\datasets\\\\edited_datasets\\\\ePurse_edited.csv\", \"n\")"
   ]
  },
  {
   "cell_type": "code",
   "execution_count": 8,
   "metadata": {},
   "outputs": [],
   "source": [
    "save_data(\"train_data.txt\", train_labels, train_circuits)\n",
    "save_data(\"test_data.txt\", test_labels, test_circuits)"
   ]
  },
  {
   "cell_type": "code",
   "execution_count": 22,
   "metadata": {},
   "outputs": [],
   "source": [
    "train_tensors = []\n",
    "test_tensors = []\n",
    "\n",
    "for circuit in train_circuits:\n",
    "    symbols = set(circuit.free_symbols)\n",
    "    symbol2index = {symbol: i for i, symbol in enumerate(symbols)}\n",
    "\n",
    "    N = len(symbols)\n",
    "    matrix = np.zeros((N, N), dtype=bool)\n",
    "    for i, symbol_i in enumerate(symbols):\n",
    "        for j, symbol_j in enumerate(symbols):\n",
    "            if any(box.dom == symbol_i and box.cod == symbol_j for box in circuit.boxes):\n",
    "                matrix[i, j] = True\n",
    "\n",
    "    tensor = torch.tensor(np.stack([matrix, matrix], axis=-1), dtype=torch.bool)\n",
    "    train_tensors.append(tensor)\n",
    "\n",
    "for circuit in test_circuits:\n",
    "    symbols = set(circuit.free_symbols)\n",
    "    symbol2index = {symbol: i for i, symbol in enumerate(symbols)}\n",
    "\n",
    "    N = len(symbols)\n",
    "    matrix = np.zeros((N, N), dtype=bool)\n",
    "    for i, symbol_i in enumerate(symbols):\n",
    "        for j, symbol_j in enumerate(symbols):\n",
    "            if any(box.dom == symbol_i and box.cod == symbol_j for box in circuit.boxes):\n",
    "                matrix[i, j] = True\n",
    "\n",
    "    tensor = torch.tensor(np.stack([matrix, matrix], axis=-1), dtype=torch.bool)\n",
    "    test_tensors.append(tensor)"
   ]
  },
  {
   "cell_type": "code",
   "execution_count": 19,
   "metadata": {},
   "outputs": [
    {
     "name": "stdout",
     "output_type": "stream",
     "text": [
      "276\n"
     ]
    },
    {
     "data": {
      "text/plain": [
       "'max_dim = max([len(circuit) for circuit in test_circuits])\\npadded_test_circuits = [diagram.pad(max_dim) for diagram in test_circuits]'"
      ]
     },
     "execution_count": 19,
     "metadata": {},
     "output_type": "execute_result"
    }
   ],
   "source": [
    "max_dim = max([len(circuit) for circuit in train_circuits])\n",
    "padded_train_circuits = [tensor.pad() for diagram in train_circuits]\n",
    "\n",
    "\"\"\"max_dim = max([len(circuit) for circuit in test_circuits])\n",
    "padded_test_circuits = [diagram.pad(max_dim) for diagram in test_circuits]\"\"\""
   ]
  },
  {
   "cell_type": "code",
   "execution_count": null,
   "metadata": {},
   "outputs": [],
   "source": []
  },
  {
   "cell_type": "code",
   "execution_count": null,
   "metadata": {},
   "outputs": [],
   "source": [
    "train_set, test_set = pip.create_dataset(train_labels, train_circuits), pip.create_dataset(test_labels, test_circuits)\n",
    "pip.create_trainer(train_circuits, test_circuits)\n",
    "pip.train_model(train_set, test_set)\n",
    "pip.plot() "
   ]
  },
  {
   "cell_type": "code",
   "execution_count": null,
   "metadata": {},
   "outputs": [],
   "source": [
    "from lambeq import BobcatParser, AtomicType\n",
    "from lambeq import TensorAnsatz\n",
    "import discopy\n",
    "# Define atomic types\n",
    "N = AtomicType.NOUN\n",
    "S = AtomicType.SENTENCE\n",
    "\n",
    "sentence = 'John walks in the park'\n",
    "\n",
    "# Get a string diagram\n",
    "parser = BobcatParser(verbose='text')\n",
    "diagram = parser.sentence2diagram(sentence)\n",
    "\n",
    "tensor_ansatz = TensorAnsatz({N: discopy.Dim(2), S: discopy.Dim(2)})\n",
    "tensor_diagram = tensor_ansatz(diagram)\n",
    "new = tensor_diagram.to_tn()\n",
    "print(new)"
   ]
  }
 ],
 "metadata": {
  "kernelspec": {
   "display_name": "Python 3 (ipykernel)",
   "language": "python",
   "name": "python3"
  },
  "language_info": {
   "codemirror_mode": {
    "name": "ipython",
    "version": 3
   },
   "file_extension": ".py",
   "mimetype": "text/x-python",
   "name": "python",
   "nbconvert_exporter": "python",
   "pygments_lexer": "ipython3",
   "version": "3.10.7"
  },
  "orig_nbformat": 4
 },
 "nbformat": 4,
 "nbformat_minor": 2
}
