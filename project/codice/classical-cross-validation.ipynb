{
 "cells": [
  {
   "cell_type": "code",
   "execution_count": 1,
   "metadata": {},
   "outputs": [],
   "source": [
    "from lambeq import BobcatParser, cups_reader, stairs_reader\n",
    "from lambeq import TensorAnsatz, SpiderAnsatz, MPSAnsatz, AtomicType\n",
    "from discopy import Dim\n",
    "from classic_pipeline import *\n",
    "from utilities import *"
   ]
  },
  {
   "cell_type": "code",
   "execution_count": 2,
   "metadata": {},
   "outputs": [],
   "source": [
    "N = AtomicType.NOUN\n",
    "S = AtomicType.SENTENCE\n",
    "C = AtomicType.CONJUNCTION\n",
    "P = AtomicType.PUNCTUATION\n",
    "NP = AtomicType.NOUN_PHRASE\n",
    "PP = AtomicType.PREPOSITIONAL_PHRASE"
   ]
  },
  {
   "cell_type": "code",
   "execution_count": 3,
   "metadata": {},
   "outputs": [],
   "source": [
    "tensor_ansatz = TensorAnsatz({N: Dim(2), S: Dim(2), C: Dim(2), P: Dim(2), NP: Dim(2), PP: Dim(2)})\n",
    "spider_ansatz = SpiderAnsatz({N: Dim(2), S: Dim(2), C: Dim(2), P: Dim(2), NP: Dim(2), PP: Dim(2)})\n",
    "mps_ansatz = MPSAnsatz({N: Dim(2), S: Dim(2), C: Dim(2), P: Dim(2), NP: Dim(2), PP: Dim(2)}, bond_dim = 3)"
   ]
  },
  {
   "cell_type": "code",
   "execution_count": 4,
   "metadata": {},
   "outputs": [],
   "source": [
    "pipeline = ClassicPipeline(stairs_reader, tensor_ansatz)\n",
    "#gps_labels, gps_circuits = pipeline.create_circuits_and_labels(\"/home/adriano22_/Documents/GitHub/Tesi-Quantum-NLP/project/datasets/edited_datasets/classical/GPS.csv\", \"n\")\n",
    "#cpn_labels, cpn_circuits = pipeline.create_circuits_and_labels(\"/home/adriano22_/Documents/GitHub/Tesi-Quantum-NLP/project/datasets/edited_datasets/classical/CPN.csv\", \"n\")\n",
    "#epurse_labels, epurse_circuits = pipeline.create_circuits_and_labels(\"/home/adriano22_/Documents/GitHub/Tesi-Quantum-NLP/project/datasets/edited_datasets/classical/ePurse.csv\", \"n\")"
   ]
  },
  {
   "cell_type": "code",
   "execution_count": 5,
   "metadata": {},
   "outputs": [],
   "source": [
    "#save_data(\"gps_data.txt\", gps_labels, gps_circuits)\n",
    "#save_data(\"cpn_data.txt\", cpn_labels, cpn_circuits)\n",
    "#save_data(\"epurse_data.txt\", epurse_labels, epurse_circuits)\n",
    "\n",
    "gps_labels, gps_circuits = load_data(\"gps_data.txt\")\n",
    "cpn_labels, cpn_circuits = load_data(\"cpn_data.txt\")\n",
    "epurse_labels, epurse_circuits = load_data(\"epurse_data.txt\")"
   ]
  },
  {
   "cell_type": "code",
   "execution_count": null,
   "metadata": {},
   "outputs": [],
   "source": [
    "from sklearn.model_selection import KFold\n",
    "\n",
    "circ = gps_circuits + cpn_circuits\n",
    "lab = gps_labels + cpn_labels\n",
    "\n",
    "mean_acc = 0\n",
    "mean_prec = 0\n",
    "mean_rec = 0\n",
    "mean_f1 = 0\n",
    "\n",
    "kf = KFold(n_splits = 5, shuffle = True, random_state = 42)\n",
    "for i, (train_index, test_index) in enumerate(kf.split(circ)):\n",
    "    print(f\"Fold {i+1}:\")\n",
    "    x_train = [circ[index] for index in train_index]\n",
    "    x_test =[circ[index] for index in test_index]\n",
    "    y_train = [lab[index] for index in train_index]\n",
    "    y_test = [lab[index] for index in test_index]\n",
    "\n",
    "    model = pipeline.create_model(circ)\n",
    "    train_set = pipeline.create_dataset(x_train, y_train)\n",
    "    pipeline.create_trainer(model = model, loss = torch.nn.BCEWithLogitsLoss(), optimizer = torch.optim.AdamW, n_epochs = 100, lr = 3e-2)\n",
    "    pipeline.train_model(train_set, 10, 10)\n",
    "    \n",
    "    \n",
    "    test_accuracy = accuracy(model(x_test), torch.tensor(y_test))\n",
    "    print(f\"Test accuracy on fold {i+1}: {test_accuracy.item()}\")\n",
    "    mean_acc += test_accuracy\n",
    "    \n",
    "    test_precision = precision(model(x_test), torch.tensor(y_test))\n",
    "    print(f\"Test precision on fold {i+1}: {test_precision.item()}\")\n",
    "    mean_prec += test_precision\n",
    "    \n",
    "    test_recall = recall(model(x_test), torch.tensor(y_test))\n",
    "    print(f\"Test recall on fold {i+1}: {test_recall.item()}\")\n",
    "    mean_rec += test_recall\n",
    "    \n",
    "    test_f1 = f1score(model(x_test), torch.tensor(y_test))\n",
    "    print(f\"Test f1_score on fold {i+1}: {test_f1.item()}\")\n",
    "    mean_f1 += test_f1\n",
    "    \n",
    "mean_acc /= 5\n",
    "mean_prec /= 5\n",
    "mean_rec /= 5\n",
    "mean_f1 /= 5\n",
    "\n",
    "print(f\"Metrics mean:\\n\\t- accuracy: {mean_acc}\\n\\t- precision: {mean_prec}\\n\\t- recall: {mean_rec}\\n\\t- f1: {mean_f1}\")\n"
   ]
  }
 ],
 "metadata": {
  "kernelspec": {
   "display_name": "Python 3 (ipykernel)",
   "language": "python",
   "name": "python3"
  },
  "language_info": {
   "codemirror_mode": {
    "name": "ipython",
    "version": 3
   },
   "file_extension": ".py",
   "mimetype": "text/x-python",
   "name": "python",
   "nbconvert_exporter": "python",
   "pygments_lexer": "ipython3",
   "version": "3.11.4"
  },
  "orig_nbformat": 4
 },
 "nbformat": 4,
 "nbformat_minor": 2
}
