{
 "cells": [
  {
   "cell_type": "code",
   "execution_count": null,
   "metadata": {},
   "outputs": [],
   "source": [
    "from lambeq import BobcatParser, stairs_reader, cups_reader\n",
    "from lambeq import AtomicType, IQPAnsatz\n",
    "from quantum_pipeline import *\n",
    "from utilities import *"
   ]
  },
  {
   "cell_type": "code",
   "execution_count": 2,
   "metadata": {},
   "outputs": [],
   "source": [
    "N = AtomicType.NOUN\n",
    "S = AtomicType.SENTENCE\n",
    "C = AtomicType.CONJUNCTION\n",
    "P = AtomicType.PUNCTUATION\n",
    "NP = AtomicType.NOUN_PHRASE\n",
    "PP = AtomicType.PREPOSITIONAL_PHRASE\n",
    "\n",
    "ansatz = IQPAnsatz({N: 1, S: 1, C: 1, P: 1, NP: 1, PP: 1}, n_layers = 1, n_single_qubit_params = 3)"
   ]
  },
  {
   "cell_type": "code",
   "execution_count": 3,
   "metadata": {},
   "outputs": [],
   "source": [
    "pipeline = QuantumPipeline(stairs_reader, ansatz)\n",
    "#gps_labels, gps_circuits = pipeline.create_circuits_and_labels(\"/home/adriano22_/Documents/GitHub/Tesi-Quantum-NLP/project/datasets/edited_datasets/quantum/GPS_quantum.csv\")\n",
    "#cpn_labels, cpn_circuits = pipeline.create_circuits_and_labels(\"/home/adriano22_/Documents/GitHub/Tesi-Quantum-NLP/project/datasets/edited_datasets/quantum/CPN_quantum.csv\")\n",
    "#epurse_labels, epurse_circuits = pipeline.create_circuits_and_labels(\"/home/adriano22_/Documents/GitHub/Tesi-Quantum-NLP/project/datasets/edited_datasets/quantum/ePurse_quantum.csv\")"
   ]
  },
  {
   "cell_type": "code",
   "execution_count": 4,
   "metadata": {},
   "outputs": [],
   "source": [
    "#save_data(\"quantum_gps.txt\", gps_labels, gps_circuits)\n",
    "#save_data(\"quantum_cpn.txt\", cpn_labels, cpn_circuits)\n",
    "#save_data(\"quantum_epurse.txt\", epurse_labels, epurse_circuits)\n",
    "\n",
    "gps_labels, gps_circuits = load_data(\"quantum_gps.txt\")\n",
    "cpn_labels, cpn_circuits = load_data(\"quantum_cpn.txt\")\n",
    "epurse_labels, epurse_circuits = load_data(\"quantum_epurse.txt\")"
   ]
  },
  {
   "cell_type": "code",
   "execution_count": null,
   "metadata": {},
   "outputs": [],
   "source": [
    "from sklearn.model_selection import KFold\n",
    "\n",
    "circ = gps_circuits + cpn_circuits + epurse_circuits\n",
    "lab = gps_labels + cpn_labels + epurse_labels\n",
    "\n",
    "mean_acc = 0\n",
    "mean_prec = 0\n",
    "mean_rec = 0\n",
    "mean_f1 = 0\n",
    "\n",
    "kf = KFold(n_splits = 5, shuffle = True, random_state = 42)\n",
    "for i, (train_index, test_index) in enumerate(kf.split(circ)):\n",
    "    print(f\"Fold {i+1}:\")\n",
    "    x_train = [circ[index] for index in train_index]\n",
    "    x_test =[circ[index] for index in test_index]\n",
    "    y_train = [lab[index] for index in train_index]\n",
    "    y_test = [lab[index] for index in test_index]\n",
    "\n",
    "    model = pipeline.create_model(circ)\n",
    "    train_set = pipeline.create_dataset(x_train, y_train)\n",
    "    pipeline.create_trainer(model = model, n_epochs = 100, a_hyp = 3e-2, evaluate = False)\n",
    "    pipeline.train_model(train_set, 10, 10)\n",
    "    \n",
    "    \n",
    "    test_accuracy = accuracy(model(x_test), torch.tensor(y_test))\n",
    "    print(f\"Test accuracy on fold {i+1}: {test_accuracy.item()}\")\n",
    "    mean_acc += test_accuracy\n",
    "    \n",
    "    test_precision = precision(model(x_test), torch.tensor(y_test))\n",
    "    print(f\"Test precision on fold {i+1}: {test_precision.item()}\")\n",
    "    mean_prec += test_precision\n",
    "    \n",
    "    test_recall = recall(model(x_test), torch.tensor(y_test))\n",
    "    print(f\"Test recall on fold {i+1}: {test_recall.item()}\")\n",
    "    mean_rec += test_recall\n",
    "    \n",
    "    test_f1 = f1score(model(x_test), torch.tensor(y_test))\n",
    "    print(f\"Test f1_score on fold {i+1}: {test_f1.item()}\")\n",
    "    mean_f1 += test_f1\n",
    "    \n",
    "mean_acc /= 5\n",
    "mean_prec /= 5\n",
    "mean_rec /= 5\n",
    "mean_f1 /= 5\n",
    "\n",
    "print(f\"Metrics mean:\\n\\t- accuracy: {mean_acc}\\n\\t- precision: {mean_prec}\\n\\t- recall: {mean_rec}\\n\\t- f1: {mean_f1}\\n\\n\")"
   ]
  }
 ],
 "metadata": {
  "kernelspec": {
   "display_name": "Python 3 (ipykernel)",
   "language": "python",
   "name": "python3"
  },
  "language_info": {
   "codemirror_mode": {
    "name": "ipython",
    "version": 3
   },
   "file_extension": ".py",
   "mimetype": "text/x-python",
   "name": "python",
   "nbconvert_exporter": "python",
   "pygments_lexer": "ipython3",
   "version": "3.11.3"
  },
  "orig_nbformat": 4
 },
 "nbformat": 4,
 "nbformat_minor": 2
}
