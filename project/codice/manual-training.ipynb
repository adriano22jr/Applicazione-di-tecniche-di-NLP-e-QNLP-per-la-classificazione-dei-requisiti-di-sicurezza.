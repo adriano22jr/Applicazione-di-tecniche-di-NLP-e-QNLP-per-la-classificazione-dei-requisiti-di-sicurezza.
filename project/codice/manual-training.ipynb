{
 "cells": [
  {
   "cell_type": "code",
   "execution_count": 7,
   "metadata": {},
   "outputs": [],
   "source": [
    "from lambeq import BobcatParser, TreeReader, TreeReaderMode, spiders_reader, cups_reader, stairs_reader\n",
    "from lambeq import TensorAnsatz, SpiderAnsatz, MPSAnsatz, IQPAnsatz, AtomicType\n",
    "from discopy import Dim\n",
    "from classic_pipeline import *\n",
    "import utilities"
   ]
  },
  {
   "cell_type": "code",
   "execution_count": 8,
   "metadata": {},
   "outputs": [],
   "source": [
    "from discopy.tensor import Tensor\n",
    "from jax import numpy as np, jit, grad\n",
    "from sympy import default_sort_key\n",
    "import numpy\n",
    "import warnings"
   ]
  },
  {
   "cell_type": "code",
   "execution_count": 9,
   "metadata": {},
   "outputs": [],
   "source": [
    "bobcat_parser = BobcatParser(verbose = \"progress\")\n",
    "tensor_ansatz = TensorAnsatz({AtomicType.NOUN: Dim(2), AtomicType.SENTENCE: Dim(2), AtomicType.CONJUNCTION: Dim(2), AtomicType.PUNCTUATION: Dim(2), AtomicType.NOUN_PHRASE: Dim(2), AtomicType.PREPOSITIONAL_PHRASE: Dim(2)})"
   ]
  },
  {
   "cell_type": "code",
   "execution_count": 10,
   "metadata": {},
   "outputs": [
    {
     "data": {
      "application/vnd.jupyter.widget-view+json": {
       "model_id": "63a2c1cca41143bc8ce09ef249f34e96",
       "version_major": 2,
       "version_minor": 0
      },
      "text/plain": [
       "Tagging sentences:   0%|          | 0/42 [00:00<?, ?it/s]"
      ]
     },
     "metadata": {},
     "output_type": "display_data"
    },
    {
     "data": {
      "application/vnd.jupyter.widget-view+json": {
       "model_id": "b147485ff3094aa29001d784c47cd77f",
       "version_major": 2,
       "version_minor": 0
      },
      "text/plain": [
       "Parsing tagged sentences:   0%|          | 0/168 [00:00<?, ?it/s]"
      ]
     },
     "metadata": {},
     "output_type": "display_data"
    },
    {
     "data": {
      "application/vnd.jupyter.widget-view+json": {
       "model_id": "451e26133e154da988a03fd78e61fec3",
       "version_major": 2,
       "version_minor": 0
      },
      "text/plain": [
       "Parse trees to diagrams:   0%|          | 0/168 [00:00<?, ?it/s]"
      ]
     },
     "metadata": {},
     "output_type": "display_data"
    },
    {
     "data": {
      "application/vnd.jupyter.widget-view+json": {
       "model_id": "af1fced7f2884988bd3efdaa3f82aace",
       "version_major": 2,
       "version_minor": 0
      },
      "text/plain": [
       "Tagging sentences:   0%|          | 0/31 [00:00<?, ?it/s]"
      ]
     },
     "metadata": {},
     "output_type": "display_data"
    },
    {
     "data": {
      "application/vnd.jupyter.widget-view+json": {
       "model_id": "c5823995994c41ada9e83f734b0f1487",
       "version_major": 2,
       "version_minor": 0
      },
      "text/plain": [
       "Parsing tagged sentences:   0%|          | 0/124 [00:00<?, ?it/s]"
      ]
     },
     "metadata": {},
     "output_type": "display_data"
    },
    {
     "data": {
      "application/vnd.jupyter.widget-view+json": {
       "model_id": "94197c22729c4adabc96fc836e19c315",
       "version_major": 2,
       "version_minor": 0
      },
      "text/plain": [
       "Parse trees to diagrams:   0%|          | 0/124 [00:00<?, ?it/s]"
      ]
     },
     "metadata": {},
     "output_type": "display_data"
    }
   ],
   "source": [
    "pip = ClassicPipeline(bobcat_parser, tensor_ansatz)\n",
    "pip.add_rewriter_rules(ClassicPipeline.SUPPORTED_RULES[0], ClassicPipeline.SUPPORTED_RULES[1], ClassicPipeline.SUPPORTED_RULES[4])\n",
    "train_labels, train_circuits = pip.create_circuits_and_labels(\"C:\\\\Users\\\\calif\\\\Documents\\\\GitHub\\\\Tesi-Quantum-NLP\\\\project\\\\datasets\\\\edited_datasets\\\\GPS_edited.csv\", \"n\")\n",
    "test_labels, test_circuits = pip.create_circuits_and_labels(\"C:\\\\Users\\\\calif\\\\Documents\\\\GitHub\\\\Tesi-Quantum-NLP\\\\project\\\\datasets\\\\edited_datasets\\\\ePurse_edited.csv\", \"n\")"
   ]
  },
  {
   "cell_type": "code",
   "execution_count": null,
   "metadata": {},
   "outputs": [],
   "source": [
    "warnings.filterwarnings('ignore')\n",
    "np.random = numpy.random\n",
    "Tensor.np = np\n",
    "np.random.seed(123458) \n",
    "\n",
    "#creation of the vocabulary\n",
    "circuits = train_circuits + test_circuits\n",
    "vocab = sorted(\n",
    "   {sym for circ in circuits for sym in circ.free_symbols},\n",
    "    key=default_sort_key\n",
    ")\n",
    "tensors = [np.random.rand(w.size) for w in vocab]"
   ]
  },
  {
   "cell_type": "code",
   "execution_count": null,
   "metadata": {},
   "outputs": [],
   "source": [
    "def sigmoid(x):\n",
    "    return 1 / (1 + np.exp(-x))\n",
    "\n",
    "def loss(tensors):\n",
    "    np_circuits = [c.lambdify(*vocab)(*tensors) for c in train_circuits]\n",
    "    predictions =  sigmoid(np.array([c.eval().array for c in np_circuits]))\n",
    "    cost = -np.sum(train_labels * np.log2(predictions)) / len(train_labels)\n",
    "    return cost\n",
    "\n",
    "training_loss = jit(loss)\n",
    "gradient = jit(grad(loss))"
   ]
  },
  {
   "cell_type": "code",
   "execution_count": null,
   "metadata": {},
   "outputs": [],
   "source": [
    "#training\n",
    "training_losses = []\n",
    "epochs = 75\n",
    "for i in range(epochs):\n",
    "    gr = gradient(tensors)\n",
    "    for k in range(len(tensors)):\n",
    "        tensors[k] = tensors[k] - gr[k] * 1.0\n",
    "\n",
    "    training_losses.append(float(training_loss(tensors)))\n",
    "    if (i + 1) % 10 == 0: print(f\"Epoch {i + 1} - loss {training_losses[-1]}\")\n",
    "    \n",
    "#evaluation\n",
    "np_test_circuits = [c.lambdify(*vocab)(*tensors) for c in test_circuits]\n",
    "test_predictions =  sigmoid(np.array([c.eval().array for c in np_test_circuits]))\n",
    "\n",
    "hits = 0\n",
    "for i in range(len(np_test_circuits)):\n",
    "    target = test_labels[i]\n",
    "    pred = test_predictions[i]\n",
    "    if np.argmax(target) == np.argmax(pred):\n",
    "        hits += 1\n",
    "\n",
    "print(\"Accuracy on test set:\", hits / len(np_test_circuits))"
   ]
  }
 ],
 "metadata": {
  "kernelspec": {
   "display_name": "Python 3 (ipykernel)",
   "language": "python",
   "name": "python3"
  },
  "language_info": {
   "codemirror_mode": {
    "name": "ipython",
    "version": 3
   },
   "file_extension": ".py",
   "mimetype": "text/x-python",
   "name": "python",
   "nbconvert_exporter": "python",
   "pygments_lexer": "ipython3",
   "version": "3.10.7"
  },
  "orig_nbformat": 4
 },
 "nbformat": 4,
 "nbformat_minor": 2
}
