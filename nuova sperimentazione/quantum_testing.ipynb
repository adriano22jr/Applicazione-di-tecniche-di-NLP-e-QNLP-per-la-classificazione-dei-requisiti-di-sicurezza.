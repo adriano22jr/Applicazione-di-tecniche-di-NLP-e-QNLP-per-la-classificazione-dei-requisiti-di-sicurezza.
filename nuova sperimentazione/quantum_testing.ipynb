{
 "cells": [
  {
   "cell_type": "code",
   "execution_count": null,
   "metadata": {},
   "outputs": [],
   "source": [
    "from lambeq import *\n",
    "from quantum_pipeline import *\n",
    "from utilities import *"
   ]
  },
  {
   "cell_type": "code",
   "execution_count": 2,
   "metadata": {},
   "outputs": [],
   "source": [
    "#define atomic-types\n",
    "\n",
    "N = AtomicType.NOUN\n",
    "S = AtomicType.SENTENCE\n",
    "C = AtomicType.CONJUNCTION\n",
    "P = AtomicType.PUNCTUATION\n",
    "NP = AtomicType.NOUN_PHRASE\n",
    "PP = AtomicType.PREPOSITIONAL_PHRASE"
   ]
  },
  {
   "cell_type": "code",
   "execution_count": 3,
   "metadata": {},
   "outputs": [],
   "source": [
    "bobcat = BobcatParser(root_cats=('S', 'NP', 'PP', 'N'), verbose='progress')\n",
    "iqp = IQPAnsatz({N: 1, S: 1, C: 1, P: 1, NP: 1, PP: 1}, n_layers = 2, n_single_qubit_params = 3)"
   ]
  },
  {
   "cell_type": "code",
   "execution_count": 4,
   "metadata": {},
   "outputs": [],
   "source": [
    "pipeline = QuantumPipeline(bobcat, iqp)\n",
    "#gps_labels, gps_circuits = pipeline.create_circuits_and_labels(\"/home/adriano22_/Documenti/GitHub/Tesi-Quantum-NLP/project/datasets/edited_datasets/classical/GPS.csv\")\n",
    "#cpn_labels, cpn_circuits = pipeline.create_circuits_and_labels(\"/home/adriano22_/Documenti/GitHub/Tesi-Quantum-NLP/project/datasets/edited_datasets/classical/CPN.csv\")\n",
    "#epurse_labels, epurse_circuits = pipeline.create_circuits_and_labels(\"/home/adriano22_/Documenti/GitHub/Tesi-Quantum-NLP/project/datasets/edited_datasets/classical/ePurse.csv\")"
   ]
  },
  {
   "cell_type": "code",
   "execution_count": 5,
   "metadata": {},
   "outputs": [],
   "source": [
    "#save_data(\"bob_gps.txt\", gps_labels, gps_circuits)\n",
    "#save_data(\"bob_cpn.txt\", cpn_labels, cpn_circuits)\n",
    "#save_data(\"bob_epurse.txt\", epurse_labels, epurse_circuits)\n",
    "\n",
    "gps_labels, gps_circuits = load_data(\"bob_gps.txt\")\n",
    "cpn_labels, cpn_circuits = load_data(\"bob_cpn.txt\")\n",
    "epurse_labels, epurse_circuits = load_data(\"bob_epurse.txt\")"
   ]
  },
  {
   "cell_type": "code",
   "execution_count": 7,
   "metadata": {},
   "outputs": [],
   "source": [
    "test_circuits = epurse_circuits + gps_circuits\n",
    "test_labels = epurse_labels + gps_labels\n",
    "\n",
    "train_set, test_set = pipeline.create_dataset(cpn_circuits, cpn_labels), pipeline.create_dataset(test_circuits, test_labels)\n",
    "model = pipeline.create_model(gps_circuits, cpn_circuits, epurse_circuits)\n"
   ]
  },
  {
   "cell_type": "code",
   "execution_count": 11,
   "metadata": {},
   "outputs": [],
   "source": [
    "#Grid-Search setup\n",
    "optimizers = [SPSAOptimizer, RotosolveOptimizer, NelderMeadOptimizer]\n",
    "learning_rates = [5e-1, 5e-2, 5e-3]\n",
    "\n",
    "train_set, test_set, eval_set = pipeline.create_dataset(gps_circuits, gps_labels), pipeline.create_dataset(cpn_circuits, cpn_labels), pipeline.create_dataset(epurse_circuits, epurse_labels)\n",
    "model = pipeline.create_model(gps_circuits, cpn_circuits, epurse_circuits)\n",
    "\n",
    "for optim in optimizers:\n",
    "    for lr in learning_rates:\n",
    "        print(f\"Current combination:\\n-Optimizer: {optim}\\n-Learning rate: {lr}\")\n",
    "        pipeline.create_trainer(model = model, optimizer = optim, n_epochs = 100, a_hyp = lr, evaluate =  True)\n",
    "        pipeline.train_and_evaluate(train_set, eval_set, 1, 1, None)"
   ]
  },
  {
   "cell_type": "code",
   "execution_count": null,
   "metadata": {},
   "outputs": [],
   "source": [
    "pipeline.create_trainer(model = model, optimizer = RotosolveOptimizer, n_epochs = 100, a_hyp = 5e-1, evaluate =  True)\n",
    "pipeline.train_and_evaluate(train_set, test_set, 1, 1, None)"
   ]
  },
  {
   "cell_type": "code",
   "execution_count": null,
   "metadata": {},
   "outputs": [],
   "source": [
    "pipeline.create_trainer(model = model, optimizer = RotosolveOptimizer, n_epochs = 100, a_hyp = 5e-2, evaluate =  True)\n",
    "pipeline.train_and_evaluate(train_set, test_set, 1, 1, None)"
   ]
  },
  {
   "cell_type": "code",
   "execution_count": null,
   "metadata": {},
   "outputs": [],
   "source": [
    "pipeline.create_trainer(model = model, optimizer = RotosolveOptimizer, n_epochs = 100, a_hyp = 5e-3, evaluate =  True)\n",
    "pipeline.train_and_evaluate(train_set, test_set, 1, 1, None)"
   ]
  }
 ],
 "metadata": {
  "kernelspec": {
   "display_name": "Python 3",
   "language": "python",
   "name": "python3"
  },
  "language_info": {
   "codemirror_mode": {
    "name": "ipython",
    "version": 3
   },
   "file_extension": ".py",
   "mimetype": "text/x-python",
   "name": "python",
   "nbconvert_exporter": "python",
   "pygments_lexer": "ipython3",
   "version": "3.11.4"
  },
  "orig_nbformat": 4
 },
 "nbformat": 4,
 "nbformat_minor": 2
}
